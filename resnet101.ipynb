{
 "cells": [
  {
   "cell_type": "markdown",
   "metadata": {
    "colab_type": "text",
    "id": "view-in-github"
   },
   "source": [
    "<a href=\"https://colab.research.google.com/github/Keerthanarampa/BreastCancer-detection-using-DL/blob/main/temp.ipynb\" target=\"_parent\"><img src=\"https://colab.research.google.com/assets/colab-badge.svg\" alt=\"Open In Colab\"/></a>"
   ]
  },
  {
   "cell_type": "code",
   "execution_count": 1,
   "metadata": {
    "id": "ykYcbJQEy35k"
   },
   "outputs": [],
   "source": [
    "data_dir = \"E:\\\\Final Project\\\\check2\""
   ]
  },
  {
   "cell_type": "code",
   "execution_count": 2,
   "metadata": {
    "id": "FMDhCtNny9mT"
   },
   "outputs": [
    {
     "name": "stdout",
     "output_type": "stream",
     "text": [
      "WARNING:tensorflow:From E:\\Final Project\\my_venv\\Lib\\site-packages\\keras\\src\\losses.py:2976: The name tf.losses.sparse_softmax_cross_entropy is deprecated. Please use tf.compat.v1.losses.sparse_softmax_cross_entropy instead.\n",
      "\n"
     ]
    }
   ],
   "source": [
    "import matplotlib.pyplot as plt\n",
    "import seaborn as sns\n",
    "\n",
    "import keras\n",
    "from keras.models import Sequential\n",
    "from keras.layers import Dense, Conv2D , MaxPool2D , Flatten , Dropout\n",
    "from keras.preprocessing.image import ImageDataGenerator\n",
    "from tensorflow.keras.optimizers import Adam\n",
    "\n",
    "from sklearn.metrics import classification_report,confusion_matrix\n",
    "\n",
    "import tensorflow as tf\n",
    "\n",
    "import cv2\n",
    "import os\n",
    "\n",
    "import numpy as np\n"
   ]
  },
  {
   "cell_type": "code",
   "execution_count": 3,
   "metadata": {
    "id": "pFhOFIWNzKsC"
   },
   "outputs": [],
   "source": [
    "labels = ['benign','malignant']\n",
    "img_size = 224\n",
    "def get_data(data_dir):\n",
    "    data = []\n",
    "    for label in labels:\n",
    "        path = os.path.join(data_dir, label)\n",
    "        class_num = labels.index(label)\n",
    "        for img in os.listdir(path):\n",
    "            try:\n",
    "                img_arr = cv2.imread(os.path.join(path, img))[...,::-1] #convert BGR to RGB format\n",
    "                resized_arr = cv2.resize(img_arr, (img_size, img_size)) # Reshaping images to preferred size\n",
    "                data.append((resized_arr, class_num))  # Using tuple instead of list\n",
    "            except Exception as e:\n",
    "                print(e)\n",
    "    return data\n"
   ]
  },
  {
   "cell_type": "code",
   "execution_count": 4,
   "metadata": {
    "colab": {
     "base_uri": "https://localhost:8080/"
    },
    "id": "FRIcRkx4zcbL",
    "outputId": "cc62e6e7-9dcc-46eb-e7dd-e06689a85611"
   },
   "outputs": [],
   "source": [
    "train = get_data('E:\\\\Final Project\\\\tempdata\\\\train')\n",
    "val = get_data(r\"E:\\\\Final Project\\\\tempdata\\\\validation\")\n",
    "test=get_data(r\"E:\\\\Final Project\\\\check3\\\\test\")"
   ]
  },
  {
   "cell_type": "code",
   "execution_count": null,
   "metadata": {
    "colab": {
     "base_uri": "https://localhost:8080/"
    },
    "id": "sNCVP4CI3sJ-",
    "outputId": "b03aecb1-4279-460b-9a45-0bff6e15efea"
   },
   "outputs": [],
   "source": []
  },
  {
   "cell_type": "code",
   "execution_count": 5,
   "metadata": {
    "colab": {
     "base_uri": "https://localhost:8080/",
     "height": 467
    },
    "id": "vhHEshiR4YFp",
    "outputId": "dd419f79-8e1a-49e1-ea81-eba0e8ba7cf8"
   },
   "outputs": [
    {
     "data": {
      "text/plain": [
       "<Axes: xlabel='count'>"
      ]
     },
     "execution_count": 5,
     "metadata": {},
     "output_type": "execute_result"
    },
    {
     "data": {
      "image/png": "[encoded data removed]",
      "text/plain": [
       "<Figure size 640x480 with 1 Axes>"
      ]
     },
     "metadata": {},
     "output_type": "display_data"
    }
   ],
   "source": [
    "l = []\n",
    "for i in train:\n",
    "    if(i[1] == 0):\n",
    "        l.append(\"malignant\")\n",
    "    else:\n",
    "        l.append(\"benign\")\n",
    "sns.set_style('darkgrid')\n",
    "sns.countplot(l)"
   ]
  },
  {
   "cell_type": "code",
   "execution_count": 6,
   "metadata": {
    "id": "9Oe0OONr4wHF"
   },
   "outputs": [],
   "source": [
    "x_train = []\n",
    "y_train = []\n",
    "x_val = []\n",
    "y_val = []\n",
    "x_test = []\n",
    "y_test = []\n",
    "\n",
    "for feature, label in train:\n",
    "  x_train.append(feature)\n",
    "  y_train.append(label)\n",
    "\n",
    "for feature, label in val:\n",
    "  x_val.append(feature)\n",
    "  y_val.append(label)\n",
    "\n",
    "for feature, label in test:\n",
    "  x_test.append(feature)\n",
    "  y_test.append(label)\n",
    "\n",
    "# Normalize the data\n",
    "x_train = np.array(x_train) / 255\n",
    "x_val = np.array(x_val) / 255\n",
    "x_test=np.array(x_test)/255\n",
    "\n",
    "x_train.reshape(-1, img_size, img_size, 1)\n",
    "y_train = np.array(y_train)\n",
    "\n",
    "x_val.reshape(-1, img_size, img_size, 1)\n",
    "y_val = np.array(y_val)\n",
    "\n",
    "x_test.reshape(-1, img_size, img_size, 1)\n",
    "y_test = np.array(y_test)\n"
   ]
  },
  {
   "cell_type": "code",
   "execution_count": 7,
   "metadata": {
    "colab": {
     "base_uri": "https://localhost:8080/"
    },
    "id": "4XcvaaF35DDH",
    "outputId": "96ab50b9-dbee-4cbf-8520-b924d75a86d4"
   },
   "outputs": [
    {
     "name": "stdout",
     "output_type": "stream",
     "text": [
      "x_train: (1390, 224, 224, 3)\n",
      "y_train: (1390,)\n",
      "x_test: (412, 224, 224, 3)\n",
      "y_test: (412,)\n",
      "x_val: (276, 224, 224, 3)\n",
      "y_val: (276,)\n"
     ]
    }
   ],
   "source": [
    "print(\"x_train:\",x_train.shape)\n",
    "print(\"y_train:\",y_train.shape)\n",
    "print(\"x_test:\",x_test.shape)\n",
    "print(\"y_test:\",y_test.shape)\n",
    "print(\"x_val:\",x_val.shape)\n",
    "print(\"y_val:\",y_val.shape)"
   ]
  },
  {
   "cell_type": "code",
   "execution_count": 8,
   "metadata": {
    "id": "1j2HTX2F5P82"
   },
   "outputs": [],
   "source": [
    "datagen = ImageDataGenerator(\n",
    "       featurewise_center=False,\n",
    "       samplewise_center=False,\n",
    "       featurewise_std_normalization=False,\n",
    "       samplewise_std_normalization=False,\n",
    "       zca_whitening=False,\n",
    "       rotation_range = 90,\n",
    "       zoom_range = 0.5,\n",
    "       width_shift_range=0.2,\n",
    "       height_shift_range=0.2,\n",
    "       horizontal_flip = True,\n",
    "\n",
    ")\n",
    "\n",
    "datagen.fit(x_train)\n",
    "datagen.fit(x_val)\n",
    "datagen.fit(x_test)\n"
   ]
  },
  {
   "cell_type": "code",
   "execution_count": 9,
   "metadata": {
    "id": "p1pMfWO35X_r"
   },
   "outputs": [
    {
     "name": "stdout",
     "output_type": "stream",
     "text": [
      "WARNING:tensorflow:From E:\\Final Project\\my_venv\\Lib\\site-packages\\keras\\src\\backend.py:1398: The name tf.executing_eagerly_outside_functions is deprecated. Please use tf.compat.v1.executing_eagerly_outside_functions instead.\n",
      "\n",
      "WARNING:tensorflow:From E:\\Final Project\\my_venv\\Lib\\site-packages\\keras\\src\\layers\\pooling\\max_pooling2d.py:161: The name tf.nn.max_pool is deprecated. Please use tf.nn.max_pool2d instead.\n",
      "\n"
     ]
    }
   ],
   "source": [
    "from tensorflow.keras.applications import ResNet101V2\n",
    "from tensorflow.keras.layers import Dense,Conv2D,MaxPool2D,Flatten,Dropout,BatchNormalization,Activation\n",
    "convlayer=ResNet101V2(input_shape=(224,224,3),weights='imagenet',include_top=False)\n",
    "for layer in convlayer.layers[:-15]:\n",
    "    layer.trainable = False"
   ]
  },
  {
   "cell_type": "code",
   "execution_count": 10,
   "metadata": {
    "id": "RyN4WaSu5aNk"
   },
   "outputs": [],
   "source": [
    "model=Sequential()\n",
    "model.add(convlayer)\n",
    "model.add(Dropout(0.5))\n",
    "model.add(Flatten())\n",
    "model.add(BatchNormalization())\n",
    "model.add(Dense(256,kernel_initializer='he_uniform'))\n",
    "model.add(BatchNormalization())\n",
    "model.add(Activation('relu'))\n",
    "model.add(Dropout(0.5))\n",
    "model.add(Dense(2,activation='softmax'))"
   ]
  },
  {
   "cell_type": "code",
   "execution_count": 11,
   "metadata": {
    "colab": {
     "base_uri": "https://localhost:8080/"
    },
    "id": "3oQD0P8y5fY6",
    "outputId": "78b468de-b09a-41cc-efae-5cf2bce0204e"
   },
   "outputs": [
    {
     "name": "stdout",
     "output_type": "stream",
     "text": [
      "Model: \"sequential\"\n",
      "_________________________________________________________________\n",
      " Layer (type)                Output Shape              Param #   \n",
      "=================================================================\n",
      " resnet101v2 (Functional)    (None, 7, 7, 2048)        42626560  \n",
      "                                                                 \n",
      " dropout (Dropout)           (None, 7, 7, 2048)        0         \n",
      "                                                                 \n",
      " flatten (Flatten)           (None, 100352)            0         \n",
      "                                                                 \n",
      " batch_normalization (Batch  (None, 100352)            401408    \n",
      " Normalization)                                                  \n",
      "                                                                 \n",
      " dense (Dense)               (None, 256)               25690368  \n",
      "                                                                 \n",
      " batch_normalization_1 (Bat  (None, 256)               1024      \n",
      " chNormalization)                                                \n",
      "                                                                 \n",
      " activation (Activation)     (None, 256)               0         \n",
      "                                                                 \n",
      " dropout_1 (Dropout)         (None, 256)               0         \n",
      "                                                                 \n",
      " dense_1 (Dense)             (None, 2)                 514       \n",
      "                                                                 \n",
      "=================================================================\n",
      "Total params: 68719874 (262.15 MB)\n",
      "Trainable params: 31411458 (119.83 MB)\n",
      "Non-trainable params: 37308416 (142.32 MB)\n",
      "_________________________________________________________________\n"
     ]
    }
   ],
   "source": [
    "model.summary()"
   ]
  },
  {
   "cell_type": "markdown",
   "metadata": {
    "id": "crIA_HBg5nqI"
   },
   "source": [
    "optimizer ='adam'\n",
    "model.compile(loss='sparse_categorical_crossentropy',\n",
    "              optimizer=optimizer,\n",
    "              metrics=['accuracy'])"
   ]
  },
  {
   "cell_type": "code",
   "execution_count": 12,
   "metadata": {
    "colab": {
     "base_uri": "https://localhost:8080/"
    },
    "id": "Vo0S70Oq5tdQ",
    "outputId": "c0875f54-139d-4e2c-d958-3b881d1dcb20"
   },
   "outputs": [
    {
     "name": "stdout",
     "output_type": "stream",
     "text": [
      "WARNING:tensorflow:From E:\\Final Project\\my_venv\\Lib\\site-packages\\keras\\src\\optimizers\\__init__.py:309: The name tf.train.Optimizer is deprecated. Please use tf.compat.v1.train.Optimizer instead.\n",
      "\n",
      "Epoch 1/10\n",
      "WARNING:tensorflow:From E:\\Final Project\\my_venv\\Lib\\site-packages\\keras\\src\\utils\\tf_utils.py:492: The name tf.ragged.RaggedTensorValue is deprecated. Please use tf.compat.v1.ragged.RaggedTensorValue instead.\n",
      "\n",
      "WARNING:tensorflow:From E:\\Final Project\\my_venv\\Lib\\site-packages\\keras\\src\\engine\\base_layer_utils.py:384: The name tf.executing_eagerly_outside_functions is deprecated. Please use tf.compat.v1.executing_eagerly_outside_functions instead.\n",
      "\n",
      "44/44 [==============================] - 213s 4s/step - loss: 0.3536 - accuracy: 0.8799 - val_loss: 10.0641 - val_accuracy: 0.7246\n",
      "Epoch 2/10\n",
      "44/44 [==============================] - 174s 4s/step - loss: 0.1039 - accuracy: 0.9655 - val_loss: 2.6070 - val_accuracy: 0.7935\n",
      "Epoch 3/10\n",
      "44/44 [==============================] - 209s 5s/step - loss: 0.0604 - accuracy: 0.9763 - val_loss: 1.7284 - val_accuracy: 0.7754\n",
      "Epoch 4/10\n",
      "44/44 [==============================] - 204s 5s/step - loss: 0.0397 - accuracy: 0.9835 - val_loss: 0.3620 - val_accuracy: 0.9167\n",
      "Epoch 5/10\n",
      "44/44 [==============================] - 198s 5s/step - loss: 0.0365 - accuracy: 0.9892 - val_loss: 0.0034 - val_accuracy: 1.0000\n",
      "Epoch 6/10\n",
      "44/44 [==============================] - 195s 4s/step - loss: 0.0313 - accuracy: 0.9899 - val_loss: 0.1547 - val_accuracy: 0.9601\n",
      "Epoch 7/10\n",
      "44/44 [==============================] - 196s 4s/step - loss: 0.0284 - accuracy: 0.9914 - val_loss: 0.0297 - val_accuracy: 0.9891\n",
      "Epoch 8/10\n",
      "44/44 [==============================] - 193s 4s/step - loss: 0.0314 - accuracy: 0.9906 - val_loss: 0.0044 - val_accuracy: 1.0000\n",
      "Epoch 9/10\n",
      "44/44 [==============================] - 192s 4s/step - loss: 0.0297 - accuracy: 0.9921 - val_loss: 0.0736 - val_accuracy: 0.9746\n",
      "Epoch 10/10\n",
      "44/44 [==============================] - 200s 5s/step - loss: 0.0234 - accuracy: 0.9921 - val_loss: 0.0513 - val_accuracy: 0.9855\n"
     ]
    }
   ],
   "source": [
    "optimizer ='adam' \n",
    "model.compile(loss='sparse_categorical_crossentropy', optimizer=optimizer, metrics=['accuracy'])\n",
    "history=model.fit(x_train,y_train,validation_data=(x_val,y_val),epochs=10,batch_size=32,shuffle=True)"
   ]
  },
  {
   "cell_type": "code",
   "execution_count": null,
   "metadata": {},
   "outputs": [],
   "source": []
  },
  {
   "cell_type": "code",
   "execution_count": 13,
   "metadata": {
    "colab": {
     "base_uri": "https://localhost:8080/",
     "height": 483
    },
    "id": "hgRGwefJ8Cqz",
    "outputId": "19350049-b3a3-4442-f06e-52c0d6dccfe6",
    "scrolled": true
   },
   "outputs": [
    {
     "data": {
      "image/png": "[encoded data removed]",
      "text/plain": [
       "<Figure size 1500x1500 with 2 Axes>"
      ]
     },
     "metadata": {},
     "output_type": "display_data"
    }
   ],
   "source": [
    "acc = history.history['accuracy']\n",
    "val_acc = history.history['val_accuracy']\n",
    "loss = history.history['loss']\n",
    "val_loss = history.history['val_loss']\n",
    "\n",
    "epochs_range = range(10)\n",
    "\n",
    "plt.figure(figsize=(15, 15))\n",
    "plt.subplot(2, 2, 1)\n",
    "plt.plot(epochs_range, acc, label='Training Accuracy')\n",
    "plt.plot(epochs_range, val_acc, label='Validation Accuracy')\n",
    "plt.legend(loc='lower right')\n",
    "plt.title('Training and Validation Accuracy')\n",
    "\n",
    "plt.subplot(2, 2, 2)\n",
    "plt.plot(epochs_range, loss, label='Training Loss')\n",
    "plt.plot(epochs_range, val_loss, label='Validation Loss')\n",
    "plt.legend(loc='upper right')\n",
    "plt.title('Training and Validation Loss')\n",
    "plt.show()"
   ]
  },
  {
   "cell_type": "code",
   "execution_count": 14,
   "metadata": {
    "colab": {
     "base_uri": "https://localhost:8080/"
    },
    "id": "sxHXAAfz8LSl",
    "outputId": "920858a7-069b-479b-a384-840e85656ae2"
   },
   "outputs": [
    {
     "name": "stdout",
     "output_type": "stream",
     "text": [
      "13/13 [==============================] - 59s 3s/step\n",
      "                     precision    recall  f1-score   support\n",
      "\n",
      "    benign(Class 0)       0.99      0.95      0.97       242\n",
      "malignant (Class 1)       0.93      0.99      0.96       170\n",
      "\n",
      "           accuracy                           0.97       412\n",
      "          macro avg       0.96      0.97      0.97       412\n",
      "       weighted avg       0.97      0.97      0.97       412\n",
      "\n"
     ]
    }
   ],
   "source": [
    "predictions = model.predict(x_test)\n",
    "pred=np.argmax(predictions,axis=1)\n",
    "pred = pred.reshape(1,-1)[0]\n",
    "print(classification_report(y_test,pred, target_names = ['benign(Class 0)','malignant (Class 1)']))"
   ]
  },
  {
   "cell_type": "code",
   "execution_count": 15,
   "metadata": {
    "colab": {
     "base_uri": "https://localhost:8080/"
    },
    "id": "miOc4-P68pZD",
    "outputId": "5e3867e7-5333-4772-810f-90ad829810da"
   },
   "outputs": [
    {
     "name": "stdout",
     "output_type": "stream",
     "text": [
      "13/13 [==============================] - 43s 3s/step - loss: 0.2854 - accuracy: 0.9660\n",
      "Accuracy: 0.9660193920135498\n"
     ]
    }
   ],
   "source": [
    "accuracy = model.evaluate(x_test, y_test, batch_size=32)[1]\n",
    "print(\"Accuracy:\", accuracy)\n"
   ]
  },
  {
   "cell_type": "code",
   "execution_count": 16,
   "metadata": {},
   "outputs": [
    {
     "name": "stdout",
     "output_type": "stream",
     "text": [
      "1/1 [==============================] - 1s 871ms/step\n",
      "The image is classified as benign.\n"
     ]
    }
   ],
   "source": [
    "\n",
    "\n",
    "image_path = \"E:/Final Project/new/validation/benign/benign (350).png\"\n",
    "\n",
    "\n",
    "image = cv2.imread(image_path)\n",
    "resized_image = cv2.resize(image, (img_size, img_size))\n",
    "normalized_image = resized_image / 255.0  \n",
    "\n",
    "\n",
    "input_image = np.expand_dims(normalized_image, axis=0)\n",
    "\n",
    "\n",
    "predictions = model.predict(input_image)\n",
    "predicted_class = np.argmax(predictions, axis=1)\n",
    "\n",
    "\n",
    "if predicted_class == 0:\n",
    "    print(\"The image is classified as benign.\")\n",
    "else:\n",
    "    print(\"The image is classified as malignant.\")\n"
   ]
  },
  {
   "cell_type": "code",
   "execution_count": 19,
   "metadata": {},
   "outputs": [
    {
     "name": "stderr",
     "output_type": "stream",
     "text": [
      "E:\\Final Project\\my_venv\\Lib\\site-packages\\keras\\src\\engine\\training.py:3103: UserWarning: You are saving your model as an HDF5 file via `model.save()`. This file format is considered legacy. We recommend using instead the native Keras format, e.g. `model.save('my_model.keras')`.\n",
      "  saving_api.save_model(\n"
     ]
    }
   ],
   "source": [
    "model.save(\"resnet101.h5\")"
   ]
  },
  {
   "cell_type": "code",
   "execution_count": 18,
   "metadata": {},
   "outputs": [],
   "source": [
    "import pickle"
   ]
  },
  {
   "cell_type": "code",
   "execution_count": null,
   "metadata": {},
   "outputs": [],
   "source": []
  },
  {
   "cell_type": "code",
   "execution_count": null,
   "metadata": {},
   "outputs": [],
   "source": []
  },
  {
   "cell_type": "code",
   "execution_count": null,
   "metadata": {},
   "outputs": [],
   "source": []
  }
 ],
 "metadata": {
  "accelerator": "GPU",
  "colab": {
   "authorship_tag": "ABX9TyPMOQ8dExW4kZhwkOFEbp2J",
   "gpuType": "T4",
   "include_colab_link": true,
   "mount_file_id": "1OJ6_c8ZKxk01uvhlWJ-SUb1w4-hF9TIR",
   "provenance": []
  },
  "kernelspec": {
   "display_name": "project",
   "language": "python",
   "name": "project"
  },
  "language_info": {
   "codemirror_mode": {
    "name": "ipython",
    "version": 3
   },
   "file_extension": ".py",
   "mimetype": "text/x-python",
   "name": "python",
   "nbconvert_exporter": "python",
   "pygments_lexer": "ipython3",
   "version": "3.11.5"
  }
 },
 "nbformat": 4,
 "nbformat_minor": 1
}
