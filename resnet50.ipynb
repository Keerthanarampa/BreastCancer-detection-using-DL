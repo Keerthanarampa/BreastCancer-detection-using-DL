{
 "cells": [
  {
   "cell_type": "code",
   "execution_count": 1,
   "id": "5076d3e2",
   "metadata": {},
   "outputs": [],
   "source": [
    "data_dir = \"E:\\\\Final Project\\\\tempdata\"\n"
   ]
  },
  {
   "cell_type": "code",
   "execution_count": 2,
   "id": "4f75b56f",
   "metadata": {},
   "outputs": [
    {
     "name": "stdout",
     "output_type": "stream",
     "text": [
      "WARNING:tensorflow:From E:\\Final Project\\my_venv\\Lib\\site-packages\\keras\\src\\losses.py:2976: The name tf.losses.sparse_softmax_cross_entropy is deprecated. Please use tf.compat.v1.losses.sparse_softmax_cross_entropy instead.\n",
      "\n"
     ]
    }
   ],
   "source": [
    "import matplotlib.pyplot as plt\n",
    "import seaborn as sns\n",
    "\n",
    "import keras\n",
    "from keras.models import Sequential\n",
    "from keras.layers import Dense, Conv2D , MaxPool2D , Flatten , Dropout\n",
    "from keras.preprocessing.image import ImageDataGenerator\n",
    "from tensorflow.keras.optimizers import Adam\n",
    "\n",
    "from sklearn.metrics import classification_report,confusion_matrix\n",
    "\n",
    "import tensorflow as tf\n",
    "\n",
    "import cv2\n",
    "import os\n",
    "\n",
    "import numpy as np\n"
   ]
  },
  {
   "cell_type": "code",
   "execution_count": 3,
   "id": "b5f7f127",
   "metadata": {},
   "outputs": [],
   "source": [
    "labels = ['benign','malignant']\n",
    "img_size = 224\n",
    "def get_data(data_dir):\n",
    "    data = []\n",
    "    for label in labels:\n",
    "        path = os.path.join(data_dir, label)\n",
    "        class_num = labels.index(label)\n",
    "        for img in os.listdir(path):\n",
    "            try:\n",
    "                img_arr = cv2.imread(os.path.join(path, img))[...,::-1] #convert BGR to RGB format\n",
    "                resized_arr = cv2.resize(img_arr, (img_size, img_size)) # Reshaping images to preferred size\n",
    "                data.append((resized_arr, class_num))  # Using tuple instead of list\n",
    "            except Exception as e:\n",
    "                print(e)\n",
    "    return data\n"
   ]
  },
  {
   "cell_type": "code",
   "execution_count": 4,
   "id": "956ca1a2",
   "metadata": {},
   "outputs": [],
   "source": [
    "train = get_data('E:\\\\Final Project\\\\tempdata\\\\train')\n",
    "val = get_data(r\"E:\\\\Final Project\\\\tempdata\\\\validation\")\n",
    "test=get_data(r\"E:\\\\Final Project\\\\check3\\\\test\")"
   ]
  },
  {
   "cell_type": "code",
   "execution_count": 5,
   "id": "de094a1a",
   "metadata": {},
   "outputs": [
    {
     "data": {
      "text/plain": [
       "<Axes: xlabel='count'>"
      ]
     },
     "execution_count": 5,
     "metadata": {},
     "output_type": "execute_result"
    },
    {
     "data": {
      "image/png": "[encoded data removed]",
      "text/plain": [
       "<Figure size 640x480 with 1 Axes>"
      ]
     },
     "metadata": {},
     "output_type": "display_data"
    }
   ],
   "source": [
    "l = []\n",
    "for i in train:\n",
    "    if(i[1] == 0):\n",
    "        l.append(\"malignant\")\n",
    "    else:\n",
    "        l.append(\"benign\")\n",
    "sns.set_style('darkgrid')\n",
    "sns.countplot(l)"
   ]
  },
  {
   "cell_type": "code",
   "execution_count": 6,
   "id": "5cf8c748",
   "metadata": {},
   "outputs": [],
   "source": [
    "x_train = []\n",
    "y_train = []\n",
    "x_val = []\n",
    "y_val = []\n",
    "x_test = []\n",
    "y_test = []\n",
    "\n",
    "for feature, label in train:\n",
    "  x_train.append(feature)\n",
    "  y_train.append(label)\n",
    "\n",
    "for feature, label in val:\n",
    "  x_val.append(feature)\n",
    "  y_val.append(label)\n",
    "\n",
    "for feature, label in test:\n",
    "  x_test.append(feature)\n",
    "  y_test.append(label)\n",
    "\n",
    "# Normalize the data\n",
    "x_train = np.array(x_train) / 255\n",
    "x_val = np.array(x_val) / 255\n",
    "x_test=np.array(x_test)/255\n",
    "\n",
    "x_train.reshape(-1, img_size, img_size, 1)\n",
    "y_train = np.array(y_train)\n",
    "\n",
    "x_val.reshape(-1, img_size, img_size, 1)\n",
    "y_val = np.array(y_val)\n",
    "\n",
    "x_test.reshape(-1, img_size, img_size, 1)\n",
    "y_test = np.array(y_test)\n"
   ]
  },
  {
   "cell_type": "code",
   "execution_count": 7,
   "id": "a8eaa102",
   "metadata": {},
   "outputs": [
    {
     "name": "stdout",
     "output_type": "stream",
     "text": [
      "x_train: (1390, 224, 224, 3)\n",
      "y_train: (1390,)\n",
      "x_test: (412, 224, 224, 3)\n",
      "y_test: (412,)\n",
      "x_val: (276, 224, 224, 3)\n",
      "y_val: (276,)\n"
     ]
    }
   ],
   "source": [
    "print(\"x_train:\",x_train.shape)\n",
    "print(\"y_train:\",y_train.shape)\n",
    "print(\"x_test:\",x_test.shape)\n",
    "print(\"y_test:\",y_test.shape)\n",
    "print(\"x_val:\",x_val.shape)\n",
    "print(\"y_val:\",y_val.shape)"
   ]
  },
  {
   "cell_type": "code",
   "execution_count": 8,
   "id": "2062553a",
   "metadata": {},
   "outputs": [],
   "source": [
    "datagen = ImageDataGenerator(\n",
    "       featurewise_center=False,\n",
    "       samplewise_center=False,\n",
    "       featurewise_std_normalization=False,\n",
    "       samplewise_std_normalization=False,\n",
    "       zca_whitening=False,\n",
    "       rotation_range = 90,\n",
    "       zoom_range = 0.5,\n",
    "       width_shift_range=0.2,\n",
    "       height_shift_range=0.2,\n",
    "       horizontal_flip = True,\n",
    "\n",
    ")\n",
    "\n",
    "datagen.fit(x_train)\n",
    "datagen.fit(x_val)\n",
    "datagen.fit(x_test)\n"
   ]
  },
  {
   "cell_type": "code",
   "execution_count": 9,
   "id": "6cae0834",
   "metadata": {},
   "outputs": [
    {
     "name": "stdout",
     "output_type": "stream",
     "text": [
      "WARNING:tensorflow:From E:\\Final Project\\my_venv\\Lib\\site-packages\\keras\\src\\backend.py:1398: The name tf.executing_eagerly_outside_functions is deprecated. Please use tf.compat.v1.executing_eagerly_outside_functions instead.\n",
      "\n",
      "WARNING:tensorflow:From E:\\Final Project\\my_venv\\Lib\\site-packages\\keras\\src\\layers\\pooling\\max_pooling2d.py:161: The name tf.nn.max_pool is deprecated. Please use tf.nn.max_pool2d instead.\n",
      "\n"
     ]
    }
   ],
   "source": [
    "from tensorflow.keras.applications import ResNet50V2\n",
    "from tensorflow.keras.layers import Dense,Conv2D,MaxPool2D,Flatten,Dropout,BatchNormalization,Activation\n",
    "convlayer=ResNet50V2(input_shape=(224,224,3),weights='imagenet',include_top=False)\n",
    "for layer in convlayer.layers[:-10]:\n",
    "    layer.trainable = False"
   ]
  },
  {
   "cell_type": "code",
   "execution_count": 10,
   "id": "857b597f",
   "metadata": {},
   "outputs": [],
   "source": [
    "model=Sequential()\n",
    "model.add(convlayer)\n",
    "model.add(Dropout(0.5))\n",
    "model.add(Flatten())\n",
    "model.add(BatchNormalization())\n",
    "model.add(Dense(1024,kernel_initializer='he_uniform'))\n",
    "model.add(BatchNormalization())\n",
    "model.add(Activation('relu'))\n",
    "model.add(Dropout(0.5))\n",
    "model.add(Dense(512,kernel_initializer='he_uniform'))\n",
    "model.add(BatchNormalization())\n",
    "model.add(Activation('relu'))\n",
    "model.add(Dropout(0.5))\n",
    "model.add(Dense(2,activation='softmax'))"
   ]
  },
  {
   "cell_type": "code",
   "execution_count": 11,
   "id": "405825e9",
   "metadata": {},
   "outputs": [
    {
     "name": "stdout",
     "output_type": "stream",
     "text": [
      "Model: \"sequential\"\n",
      "_________________________________________________________________\n",
      " Layer (type)                Output Shape              Param #   \n",
      "=================================================================\n",
      " resnet50v2 (Functional)     (None, 7, 7, 2048)        23564800  \n",
      "                                                                 \n",
      " dropout (Dropout)           (None, 7, 7, 2048)        0         \n",
      "                                                                 \n",
      " flatten (Flatten)           (None, 100352)            0         \n",
      "                                                                 \n",
      " batch_normalization (Batch  (None, 100352)            401408    \n",
      " Normalization)                                                  \n",
      "                                                                 \n",
      " dense (Dense)               (None, 1024)              102761472 \n",
      "                                                                 \n",
      " batch_normalization_1 (Bat  (None, 1024)              4096      \n",
      " chNormalization)                                                \n",
      "                                                                 \n",
      " activation (Activation)     (None, 1024)              0         \n",
      "                                                                 \n",
      " dropout_1 (Dropout)         (None, 1024)              0         \n",
      "                                                                 \n",
      " dense_1 (Dense)             (None, 512)               524800    \n",
      "                                                                 \n",
      " batch_normalization_2 (Bat  (None, 512)               2048      \n",
      " chNormalization)                                                \n",
      "                                                                 \n",
      " activation_1 (Activation)   (None, 512)               0         \n",
      "                                                                 \n",
      " dropout_2 (Dropout)         (None, 512)               0         \n",
      "                                                                 \n",
      " dense_2 (Dense)             (None, 2)                 1026      \n",
      "                                                                 \n",
      "=================================================================\n",
      "Total params: 127259650 (485.46 MB)\n",
      "Trainable params: 106907138 (407.82 MB)\n",
      "Non-trainable params: 20352512 (77.64 MB)\n",
      "_________________________________________________________________\n"
     ]
    }
   ],
   "source": [
    "model.summary()"
   ]
  },
  {
   "cell_type": "code",
   "execution_count": 12,
   "id": "3a9cc124",
   "metadata": {},
   "outputs": [
    {
     "name": "stdout",
     "output_type": "stream",
     "text": [
      "WARNING:tensorflow:From E:\\Final Project\\my_venv\\Lib\\site-packages\\keras\\src\\optimizers\\__init__.py:309: The name tf.train.Optimizer is deprecated. Please use tf.compat.v1.train.Optimizer instead.\n",
      "\n",
      "Epoch 1/25\n",
      "WARNING:tensorflow:From E:\\Final Project\\my_venv\\Lib\\site-packages\\keras\\src\\utils\\tf_utils.py:492: The name tf.ragged.RaggedTensorValue is deprecated. Please use tf.compat.v1.ragged.RaggedTensorValue instead.\n",
      "\n",
      "WARNING:tensorflow:From E:\\Final Project\\my_venv\\Lib\\site-packages\\keras\\src\\engine\\base_layer_utils.py:384: The name tf.executing_eagerly_outside_functions is deprecated. Please use tf.compat.v1.executing_eagerly_outside_functions instead.\n",
      "\n",
      "44/44 [==============================] - 194s 3s/step - loss: 0.2938 - accuracy: 0.8971 - val_loss: 10.1860 - val_accuracy: 0.5942\n",
      "Epoch 2/25\n",
      "44/44 [==============================] - 163s 4s/step - loss: 0.1234 - accuracy: 0.9576 - val_loss: 8.3198 - val_accuracy: 0.5652\n",
      "Epoch 3/25\n",
      "44/44 [==============================] - 181s 4s/step - loss: 0.1050 - accuracy: 0.9705 - val_loss: 0.6760 - val_accuracy: 0.8877\n",
      "Epoch 4/25\n",
      "44/44 [==============================] - 174s 4s/step - loss: 0.0765 - accuracy: 0.9755 - val_loss: 0.1494 - val_accuracy: 0.9565\n",
      "Epoch 5/25\n",
      "44/44 [==============================] - 169s 4s/step - loss: 0.0903 - accuracy: 0.9712 - val_loss: 0.0480 - val_accuracy: 0.9746\n",
      "Epoch 6/25\n",
      "44/44 [==============================] - 165s 4s/step - loss: 0.0765 - accuracy: 0.9741 - val_loss: 0.0823 - val_accuracy: 0.9855\n",
      "Epoch 7/25\n",
      "44/44 [==============================] - 164s 4s/step - loss: 0.0310 - accuracy: 0.9899 - val_loss: 5.1866e-04 - val_accuracy: 1.0000\n",
      "Epoch 8/25\n",
      "44/44 [==============================] - 163s 4s/step - loss: 0.0325 - accuracy: 0.9885 - val_loss: 0.0808 - val_accuracy: 0.9746\n",
      "Epoch 9/25\n",
      "44/44 [==============================] - 165s 4s/step - loss: 0.0281 - accuracy: 0.9921 - val_loss: 6.3407e-04 - val_accuracy: 1.0000\n",
      "Epoch 10/25\n",
      "44/44 [==============================] - 166s 4s/step - loss: 0.0510 - accuracy: 0.9849 - val_loss: 0.0620 - val_accuracy: 0.9819\n",
      "Epoch 11/25\n",
      "44/44 [==============================] - 168s 4s/step - loss: 0.0412 - accuracy: 0.9878 - val_loss: 0.0355 - val_accuracy: 0.9855\n",
      "Epoch 12/25\n",
      "44/44 [==============================] - 145s 3s/step - loss: 0.0409 - accuracy: 0.9878 - val_loss: 0.0077 - val_accuracy: 0.9964\n",
      "Epoch 13/25\n",
      "44/44 [==============================] - 133s 3s/step - loss: 0.0518 - accuracy: 0.9878 - val_loss: 0.0161 - val_accuracy: 0.9964\n",
      "Epoch 14/25\n",
      "44/44 [==============================] - 118s 3s/step - loss: 0.0397 - accuracy: 0.9842 - val_loss: 0.0041 - val_accuracy: 1.0000\n",
      "Epoch 15/25\n",
      "44/44 [==============================] - 116s 3s/step - loss: 0.0266 - accuracy: 0.9885 - val_loss: 0.0048 - val_accuracy: 1.0000\n",
      "Epoch 16/25\n",
      "44/44 [==============================] - 116s 3s/step - loss: 0.0187 - accuracy: 0.9906 - val_loss: 0.0012 - val_accuracy: 1.0000\n",
      "Epoch 17/25\n",
      "44/44 [==============================] - 102s 2s/step - loss: 0.0239 - accuracy: 0.9921 - val_loss: 0.0021 - val_accuracy: 1.0000\n",
      "Epoch 18/25\n",
      "44/44 [==============================] - 102s 2s/step - loss: 0.0312 - accuracy: 0.9899 - val_loss: 0.0584 - val_accuracy: 0.9928\n",
      "Epoch 19/25\n",
      "44/44 [==============================] - 75s 2s/step - loss: 0.0211 - accuracy: 0.9942 - val_loss: 3.3877e-04 - val_accuracy: 1.0000\n",
      "Epoch 20/25\n",
      "44/44 [==============================] - 87s 2s/step - loss: 0.0108 - accuracy: 0.9957 - val_loss: 8.4218e-04 - val_accuracy: 1.0000\n",
      "Epoch 21/25\n",
      "44/44 [==============================] - 103s 2s/step - loss: 0.0215 - accuracy: 0.9950 - val_loss: 2.8872e-04 - val_accuracy: 1.0000\n",
      "Epoch 22/25\n",
      "44/44 [==============================] - 120s 3s/step - loss: 0.0205 - accuracy: 0.9950 - val_loss: 8.7451e-05 - val_accuracy: 1.0000\n",
      "Epoch 23/25\n",
      "44/44 [==============================] - 108s 2s/step - loss: 0.0086 - accuracy: 0.9964 - val_loss: 8.6503e-04 - val_accuracy: 1.0000\n",
      "Epoch 24/25\n",
      "44/44 [==============================] - 120s 3s/step - loss: 0.0096 - accuracy: 0.9957 - val_loss: 0.0026 - val_accuracy: 1.0000\n",
      "Epoch 25/25\n",
      "44/44 [==============================] - 117s 3s/step - loss: 0.0100 - accuracy: 0.9978 - val_loss: 0.0012 - val_accuracy: 1.0000\n"
     ]
    }
   ],
   "source": [
    "\n",
    "optimizer ='adam' \n",
    "model.compile(loss='sparse_categorical_crossentropy', optimizer=optimizer, metrics=['accuracy'])\n",
    "history=model.fit(x_train,y_train,validation_data=(x_val,y_val),epochs=25,batch_size=32,shuffle=True)"
   ]
  },
  {
   "cell_type": "code",
   "execution_count": null,
   "id": "6d591904",
   "metadata": {},
   "outputs": [],
   "source": []
  },
  {
   "cell_type": "code",
   "execution_count": 13,
   "id": "7382f9d6",
   "metadata": {},
   "outputs": [
    {
     "data": {
      "image/png": "[encoded data removed]",
      "text/plain": [
       "<Figure size 1500x1500 with 2 Axes>"
      ]
     },
     "metadata": {},
     "output_type": "display_data"
    }
   ],
   "source": [
    "acc = history.history['accuracy']\n",
    "val_acc = history.history['val_accuracy']\n",
    "loss = history.history['loss']\n",
    "val_loss = history.history['val_loss']\n",
    "\n",
    "epochs_range = range(25)\n",
    "\n",
    "plt.figure(figsize=(15, 15))\n",
    "plt.subplot(2, 2, 1)\n",
    "plt.plot(epochs_range, acc, label='Training Accuracy')\n",
    "plt.plot(epochs_range, val_acc, label='Validation Accuracy')\n",
    "plt.legend(loc='lower right')\n",
    "plt.title('Training and Validation Accuracy')\n",
    "\n",
    "plt.subplot(2, 2, 2)\n",
    "plt.plot(epochs_range, loss, label='Training Loss')\n",
    "plt.plot(epochs_range, val_loss, label='Validation Loss')\n",
    "plt.legend(loc='upper right')\n",
    "plt.title('Training and Validation Loss')\n",
    "plt.show()"
   ]
  },
  {
   "cell_type": "code",
   "execution_count": 14,
   "id": "4e0ed8e6",
   "metadata": {},
   "outputs": [
    {
     "name": "stdout",
     "output_type": "stream",
     "text": [
      "13/13 [==============================] - 19s 1s/step\n",
      "                     precision    recall  f1-score   support\n",
      "\n",
      "    benign(Class 0)       0.99      0.90      0.94       242\n",
      "malignant (Class 1)       0.88      0.99      0.93       170\n",
      "\n",
      "           accuracy                           0.94       412\n",
      "          macro avg       0.93      0.94      0.94       412\n",
      "       weighted avg       0.94      0.94      0.94       412\n",
      "\n"
     ]
    }
   ],
   "source": [
    "predictions = model.predict(x_test)\n",
    "pred=np.argmax(predictions,axis=1)\n",
    "pred = pred.reshape(1,-1)[0]\n",
    "print(classification_report(y_test,pred, target_names = ['benign(Class 0)','malignant (Class 1)']))"
   ]
  },
  {
   "cell_type": "code",
   "execution_count": 15,
   "id": "72705f99",
   "metadata": {},
   "outputs": [
    {
     "name": "stdout",
     "output_type": "stream",
     "text": [
      "13/13 [==============================] - 15s 1s/step - loss: 0.3091 - accuracy: 0.9369\n",
      "Accuracy: 0.9368932247161865\n"
     ]
    }
   ],
   "source": [
    "accuracy = model.evaluate(x_test, y_test, batch_size=32)[1]\n",
    "print(\"Accuracy:\", accuracy)\n"
   ]
  },
  {
   "cell_type": "code",
   "execution_count": 16,
   "id": "ca12fc7e",
   "metadata": {},
   "outputs": [
    {
     "name": "stderr",
     "output_type": "stream",
     "text": [
      "E:\\Final Project\\my_venv\\Lib\\site-packages\\keras\\src\\engine\\training.py:3103: UserWarning: You are saving your model as an HDF5 file via `model.save()`. This file format is considered legacy. We recommend using instead the native Keras format, e.g. `model.save('my_model.keras')`.\n",
      "  saving_api.save_model(\n"
     ]
    }
   ],
   "source": [
    "#model.save(\"resnet50.h5\")"
   ]
  },
  {
   "cell_type": "code",
   "execution_count": null,
   "id": "2a8fa9a9",
   "metadata": {},
   "outputs": [],
   "source": []
  }
 ],
 "metadata": {
  "kernelspec": {
   "display_name": "project",
   "language": "python",
   "name": "project"
  },
  "language_info": {
   "codemirror_mode": {
    "name": "ipython",
    "version": 3
   },
   "file_extension": ".py",
   "mimetype": "text/x-python",
   "name": "python",
   "nbconvert_exporter": "python",
   "pygments_lexer": "ipython3",
   "version": "3.11.5"
  }
 },
 "nbformat": 4,
 "nbformat_minor": 5
}
