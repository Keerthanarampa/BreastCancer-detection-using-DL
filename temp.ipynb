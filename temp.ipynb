{
  "nbformat": 4,
  "nbformat_minor": 0,
  "metadata": {
    "colab": {
      "provenance": [],
      "gpuType": "T4",
      "mount_file_id": "1OJ6_c8ZKxk01uvhlWJ-SUb1w4-hF9TIR",
      "authorship_tag": "ABX9TyPMOQ8dExW4kZhwkOFEbp2J",
      "include_colab_link": true
    },
    "kernelspec": {
      "name": "python3",
      "display_name": "Python 3"
    },
    "language_info": {
      "name": "python"
    },
    "accelerator": "GPU"
  },
  "cells": [
    {
      "cell_type": "markdown",
      "metadata": {
        "id": "view-in-github",
        "colab_type": "text"
      },
      "source": [
        "<a href=\"https://colab.research.google.com/github/Keerthanarampa/BreastCancer-detection-using-DL/blob/main/temp.ipynb\" target=\"_parent\"><img src=\"https://colab.research.google.com/assets/colab-badge.svg\" alt=\"Open In Colab\"/></a>"
      ]
    },
    {
      "cell_type": "code",
      "execution_count": 1,
      "metadata": {
        "colab": {
          "base_uri": "https://localhost:8080/"
        },
        "id": "Cdk4ROx6xps9",
        "outputId": "6d423b0b-28e3-4a0d-cd37-f324da4b37ea"
      },
      "outputs": [
        {
          "output_type": "stream",
          "name": "stdout",
          "text": [
            "Drive already mounted at /content/drive; to attempt to forcibly remount, call drive.mount(\"/content/drive\", force_remount=True).\n"
          ]
        }
      ],
      "source": [
        "from google.colab import drive\n",
        "\n",
        "drive.mount('/content/drive')\n"
      ]
    },
    {
      "cell_type": "code",
      "source": [
        "data_dir = '/content/drive/My Drive/originals'"
      ],
      "metadata": {
        "id": "ykYcbJQEy35k"
      },
      "execution_count": 3,
      "outputs": []
    },
    {
      "cell_type": "code",
      "source": [
        "import matplotlib.pyplot as plt\n",
        "import seaborn as sns\n",
        "\n",
        "import keras\n",
        "from keras.models import Sequential\n",
        "from keras.layers import Dense, Conv2D , MaxPool2D , Flatten , Dropout\n",
        "from keras.preprocessing.image import ImageDataGenerator\n",
        "from tensorflow.keras.optimizers import Adam\n",
        "\n",
        "from sklearn.metrics import classification_report,confusion_matrix\n",
        "\n",
        "import tensorflow as tf\n",
        "\n",
        "import cv2\n",
        "import os\n",
        "\n",
        "import numpy as np\n"
      ],
      "metadata": {
        "id": "FMDhCtNny9mT"
      },
      "execution_count": 4,
      "outputs": []
    },
    {
      "cell_type": "code",
      "source": [
        "labels = ['benign','malignant']\n",
        "img_size = 150\n",
        "def get_data(data_dir):\n",
        "    data = []\n",
        "    for label in labels:\n",
        "        path = os.path.join(data_dir, label)\n",
        "        class_num = labels.index(label)\n",
        "        for img in os.listdir(path):\n",
        "            try:\n",
        "                img_arr = cv2.imread(os.path.join(path, img))[...,::-1] #convert BGR to RGB format\n",
        "                resized_arr = cv2.resize(img_arr, (img_size, img_size)) # Reshaping images to preferred size\n",
        "                data.append([resized_arr, class_num])\n",
        "            except Exception as e:\n",
        "                print(e)\n",
        "    return np.array(data)"
      ],
      "metadata": {
        "id": "pFhOFIWNzKsC"
      },
      "execution_count": 22,
      "outputs": []
    },
    {
      "cell_type": "code",
      "source": [
        "train = get_data(r\"../content/drive/My Drive/originals/train\")\n",
        "val = get_data(r\"../content/drive/My Drive/originals/validation\")\n",
        "test=get_data(r\"../content/drive/My Drive/originals/test\")"
      ],
      "metadata": {
        "colab": {
          "base_uri": "https://localhost:8080/"
        },
        "id": "FRIcRkx4zcbL",
        "outputId": "cc62e6e7-9dcc-46eb-e7dd-e06689a85611"
      },
      "execution_count": 23,
      "outputs": [
        {
          "output_type": "stream",
          "name": "stderr",
          "text": [
            "<ipython-input-22-9ed125d4ac81>:15: VisibleDeprecationWarning: Creating an ndarray from ragged nested sequences (which is a list-or-tuple of lists-or-tuples-or ndarrays with different lengths or shapes) is deprecated. If you meant to do this, you must specify 'dtype=object' when creating the ndarray.\n",
            "  return np.array(data)\n"
          ]
        }
      ]
    },
    {
      "cell_type": "code",
      "source": [
        "import os\n",
        "len(os.listdir(\"../content/drive/My Drive/originals/train/benign\"))"
      ],
      "metadata": {
        "colab": {
          "base_uri": "https://localhost:8080/"
        },
        "id": "sNCVP4CI3sJ-",
        "outputId": "b03aecb1-4279-460b-9a45-0bff6e15efea"
      },
      "execution_count": 24,
      "outputs": [
        {
          "output_type": "execute_result",
          "data": {
            "text/plain": [
              "70"
            ]
          },
          "metadata": {},
          "execution_count": 24
        }
      ]
    },
    {
      "cell_type": "code",
      "source": [
        "l = []\n",
        "for i in train:\n",
        "    if(i[1] == 0):\n",
        "        l.append(\"malignant\")\n",
        "    else:\n",
        "        l.append(\"benign\")\n",
        "sns.set_style('darkgrid')\n",
        "sns.countplot(l)"
      ],
      "metadata": {
        "colab": {
          "base_uri": "https://localhost:8080/",
          "height": 467
        },
        "id": "vhHEshiR4YFp",
        "outputId": "dd419f79-8e1a-49e1-ea81-eba0e8ba7cf8"
      },
      "execution_count": 25,
      "outputs": [
        {
          "output_type": "execute_result",
          "data": {
            "text/plain": [
              "<Axes: xlabel='count'>"
            ]
          },
          "metadata": {},
          "execution_count": 25
        },
        {
          "output_type": "display_data",
          "data": {
            "text/plain": [
              "<Figure size 640x480 with 1 Axes>"
            ],
            "image/png": "[encoded data removed]"
          },
          "metadata": {}
        }
      ]
    },
    {
      "cell_type": "code",
      "source": [
        "x_train = []\n",
        "y_train = []\n",
        "x_val = []\n",
        "y_val = []\n",
        "x_test = []\n",
        "y_test = []\n",
        "\n",
        "for feature, label in train:\n",
        "  x_train.append(feature)\n",
        "  y_train.append(label)\n",
        "\n",
        "for feature, label in val:\n",
        "  x_val.append(feature)\n",
        "  y_val.append(label)\n",
        "\n",
        "for feature, label in test:\n",
        "  x_test.append(feature)\n",
        "  y_test.append(label)\n",
        "\n",
        "# Normalize the data\n",
        "x_train = np.array(x_train) / 255\n",
        "x_val = np.array(x_val) / 255\n",
        "x_test=np.array(x_test)/255\n",
        "\n",
        "x_train.reshape(-1, img_size, img_size, 1)\n",
        "y_train = np.array(y_train)\n",
        "\n",
        "x_val.reshape(-1, img_size, img_size, 1)\n",
        "y_val = np.array(y_val)\n",
        "\n",
        "x_test.reshape(-1, img_size, img_size, 1)\n",
        "y_test = np.array(y_test)\n"
      ],
      "metadata": {
        "id": "9Oe0OONr4wHF"
      },
      "execution_count": 27,
      "outputs": []
    },
    {
      "cell_type": "code",
      "source": [
        "print(\"x_train:\",x_train.shape)\n",
        "print(\"y_train:\",y_train.shape)\n",
        "print(\"x_test:\",x_test.shape)\n",
        "print(\"y_test:\",y_test.shape)\n",
        "print(\"x_val:\",x_val.shape)\n",
        "print(\"y_val:\",y_val.shape)"
      ],
      "metadata": {
        "colab": {
          "base_uri": "https://localhost:8080/"
        },
        "id": "4XcvaaF35DDH",
        "outputId": "96ab50b9-dbee-4cbf-8520-b924d75a86d4"
      },
      "execution_count": 28,
      "outputs": [
        {
          "output_type": "stream",
          "name": "stdout",
          "text": [
            "x_train: (175, 150, 150, 3)\n",
            "y_train: (175,)\n",
            "x_test: (25, 150, 150, 3)\n",
            "y_test: (25,)\n",
            "x_val: (50, 150, 150, 3)\n",
            "y_val: (50,)\n"
          ]
        }
      ]
    },
    {
      "cell_type": "code",
      "source": [
        "datagen = ImageDataGenerator(\n",
        "       featurewise_center=False,\n",
        "       samplewise_center=False,\n",
        "       featurewise_std_normalization=False,\n",
        "       samplewise_std_normalization=False,\n",
        "       zca_whitening=False,\n",
        "       rotation_range = 90,\n",
        "       zoom_range = 0.5,\n",
        "       width_shift_range=0.2,\n",
        "       height_shift_range=0.2,\n",
        "       horizontal_flip = True,\n",
        "\n",
        ")\n",
        "\n",
        "datagen.fit(x_train)\n",
        "datagen.fit(x_val)\n",
        "datagen.fit(x_test)\n"
      ],
      "metadata": {
        "id": "1j2HTX2F5P82"
      },
      "execution_count": 29,
      "outputs": []
    },
    {
      "cell_type": "code",
      "source": [
        "from tensorflow.keras.applications import ResNet101V2\n",
        "from tensorflow.keras.layers import Dense,Conv2D,MaxPool2D,Flatten,Dropout,BatchNormalization,Activation\n",
        "convlayer=ResNet101V2(input_shape=(150,150,3),weights='imagenet',include_top=False)\n",
        "for layer in convlayer.layers:\n",
        "    layer.trainable=False"
      ],
      "metadata": {
        "id": "p1pMfWO35X_r"
      },
      "execution_count": 30,
      "outputs": []
    },
    {
      "cell_type": "code",
      "source": [
        "model=Sequential()\n",
        "model.add(convlayer)\n",
        "model.add(Dropout(0.5))\n",
        "model.add(Flatten())\n",
        "model.add(BatchNormalization())\n",
        "model.add(Dense(1024,kernel_initializer='he_uniform'))\n",
        "model.add(BatchNormalization())\n",
        "model.add(Activation('relu'))\n",
        "model.add(Dropout(0.5))\n",
        "model.add(Dense(512,kernel_initializer='he_uniform'))\n",
        "model.add(BatchNormalization())\n",
        "model.add(Activation('relu'))\n",
        "model.add(Dropout(0.5))\n",
        "model.add(Dense(2,activation='softmax'))"
      ],
      "metadata": {
        "id": "RyN4WaSu5aNk"
      },
      "execution_count": 31,
      "outputs": []
    },
    {
      "cell_type": "code",
      "source": [
        "model.summary()"
      ],
      "metadata": {
        "colab": {
          "base_uri": "https://localhost:8080/"
        },
        "id": "3oQD0P8y5fY6",
        "outputId": "78b468de-b09a-41cc-efae-5cf2bce0204e"
      },
      "execution_count": 32,
      "outputs": [
        {
          "output_type": "stream",
          "name": "stdout",
          "text": [
            "Model: \"sequential_1\"\n",
            "_________________________________________________________________\n",
            " Layer (type)                Output Shape              Param #   \n",
            "=================================================================\n",
            " resnet101v2 (Functional)    (None, 5, 5, 2048)        42626560  \n",
            "                                                                 \n",
            " dropout_3 (Dropout)         (None, 5, 5, 2048)        0         \n",
            "                                                                 \n",
            " flatten_1 (Flatten)         (None, 51200)             0         \n",
            "                                                                 \n",
            " batch_normalization_3 (Bat  (None, 51200)             204800    \n",
            " chNormalization)                                                \n",
            "                                                                 \n",
            " dense_3 (Dense)             (None, 1024)              52429824  \n",
            "                                                                 \n",
            " batch_normalization_4 (Bat  (None, 1024)              4096      \n",
            " chNormalization)                                                \n",
            "                                                                 \n",
            " activation_2 (Activation)   (None, 1024)              0         \n",
            "                                                                 \n",
            " dropout_4 (Dropout)         (None, 1024)              0         \n",
            "                                                                 \n",
            " dense_4 (Dense)             (None, 512)               524800    \n",
            "                                                                 \n",
            " batch_normalization_5 (Bat  (None, 512)               2048      \n",
            " chNormalization)                                                \n",
            "                                                                 \n",
            " activation_3 (Activation)   (None, 512)               0         \n",
            "                                                                 \n",
            " dropout_5 (Dropout)         (None, 512)               0         \n",
            "                                                                 \n",
            " dense_5 (Dense)             (None, 2)                 1026      \n",
            "                                                                 \n",
            "=================================================================\n",
            "Total params: 95793154 (365.42 MB)\n",
            "Trainable params: 53061122 (202.41 MB)\n",
            "Non-trainable params: 42732032 (163.01 MB)\n",
            "_________________________________________________________________\n"
          ]
        }
      ]
    },
    {
      "cell_type": "code",
      "source": [
        "optimizer ='adam'\n",
        "model.compile(loss='sparse_categorical_crossentropy',\n",
        "              optimizer=optimizer,\n",
        "              metrics=['accuracy'])"
      ],
      "metadata": {
        "id": "crIA_HBg5nqI"
      },
      "execution_count": 33,
      "outputs": []
    },
    {
      "cell_type": "code",
      "source": [
        "history=model.fit(x_train,y_train,validation_data=(x_val,y_val),epochs=25,batch_size=32,shuffle=True)"
      ],
      "metadata": {
        "colab": {
          "base_uri": "https://localhost:8080/"
        },
        "id": "Vo0S70Oq5tdQ",
        "outputId": "c0875f54-139d-4e2c-d958-3b881d1dcb20"
      },
      "execution_count": 34,
      "outputs": [
        {
          "output_type": "stream",
          "name": "stdout",
          "text": [
            "Epoch 1/25\n",
            "6/6 [==============================] - 22s 2s/step - loss: 0.6107 - accuracy: 0.7257 - val_loss: 1.6702 - val_accuracy: 0.6800\n",
            "Epoch 2/25\n",
            "6/6 [==============================] - 1s 169ms/step - loss: 0.1095 - accuracy: 0.9600 - val_loss: 5.2905 - val_accuracy: 0.6000\n",
            "Epoch 3/25\n",
            "6/6 [==============================] - 1s 132ms/step - loss: 0.0345 - accuracy: 0.9943 - val_loss: 4.0654 - val_accuracy: 0.6000\n",
            "Epoch 4/25\n",
            "6/6 [==============================] - 1s 131ms/step - loss: 0.0238 - accuracy: 0.9943 - val_loss: 2.8319 - val_accuracy: 0.6200\n",
            "Epoch 5/25\n",
            "6/6 [==============================] - 1s 133ms/step - loss: 0.0104 - accuracy: 1.0000 - val_loss: 2.4403 - val_accuracy: 0.6200\n",
            "Epoch 6/25\n",
            "6/6 [==============================] - 1s 132ms/step - loss: 0.0057 - accuracy: 1.0000 - val_loss: 2.1762 - val_accuracy: 0.6200\n",
            "Epoch 7/25\n",
            "6/6 [==============================] - 1s 132ms/step - loss: 0.0067 - accuracy: 1.0000 - val_loss: 1.8731 - val_accuracy: 0.6400\n",
            "Epoch 8/25\n",
            "6/6 [==============================] - 1s 160ms/step - loss: 0.0052 - accuracy: 1.0000 - val_loss: 1.6765 - val_accuracy: 0.6400\n",
            "Epoch 9/25\n",
            "6/6 [==============================] - 1s 161ms/step - loss: 0.0027 - accuracy: 1.0000 - val_loss: 1.5420 - val_accuracy: 0.6200\n",
            "Epoch 10/25\n",
            "6/6 [==============================] - 1s 161ms/step - loss: 0.0045 - accuracy: 1.0000 - val_loss: 1.4167 - val_accuracy: 0.6400\n",
            "Epoch 11/25\n",
            "6/6 [==============================] - 1s 160ms/step - loss: 0.0027 - accuracy: 1.0000 - val_loss: 1.2501 - val_accuracy: 0.6600\n",
            "Epoch 12/25\n",
            "6/6 [==============================] - 1s 161ms/step - loss: 0.0038 - accuracy: 1.0000 - val_loss: 1.1609 - val_accuracy: 0.6600\n",
            "Epoch 13/25\n",
            "6/6 [==============================] - 1s 165ms/step - loss: 0.0015 - accuracy: 1.0000 - val_loss: 1.1105 - val_accuracy: 0.6600\n",
            "Epoch 14/25\n",
            "6/6 [==============================] - 1s 139ms/step - loss: 0.0017 - accuracy: 1.0000 - val_loss: 1.0622 - val_accuracy: 0.6600\n",
            "Epoch 15/25\n",
            "6/6 [==============================] - 1s 139ms/step - loss: 0.0018 - accuracy: 1.0000 - val_loss: 1.0048 - val_accuracy: 0.6600\n",
            "Epoch 16/25\n",
            "6/6 [==============================] - 1s 141ms/step - loss: 0.0013 - accuracy: 1.0000 - val_loss: 0.9551 - val_accuracy: 0.6800\n",
            "Epoch 17/25\n",
            "6/6 [==============================] - 1s 138ms/step - loss: 7.5488e-04 - accuracy: 1.0000 - val_loss: 0.9161 - val_accuracy: 0.7000\n",
            "Epoch 18/25\n",
            "6/6 [==============================] - 1s 169ms/step - loss: 0.0013 - accuracy: 1.0000 - val_loss: 0.8672 - val_accuracy: 0.7200\n",
            "Epoch 19/25\n",
            "6/6 [==============================] - 1s 161ms/step - loss: 0.0012 - accuracy: 1.0000 - val_loss: 0.8318 - val_accuracy: 0.7200\n",
            "Epoch 20/25\n",
            "6/6 [==============================] - 1s 130ms/step - loss: 0.0016 - accuracy: 1.0000 - val_loss: 0.8019 - val_accuracy: 0.7200\n",
            "Epoch 21/25\n",
            "6/6 [==============================] - 1s 162ms/step - loss: 7.6162e-04 - accuracy: 1.0000 - val_loss: 0.7679 - val_accuracy: 0.7200\n",
            "Epoch 22/25\n",
            "6/6 [==============================] - 1s 131ms/step - loss: 3.1711e-04 - accuracy: 1.0000 - val_loss: 0.7556 - val_accuracy: 0.7200\n",
            "Epoch 23/25\n",
            "6/6 [==============================] - 1s 130ms/step - loss: 4.8560e-04 - accuracy: 1.0000 - val_loss: 0.7356 - val_accuracy: 0.7400\n",
            "Epoch 24/25\n",
            "6/6 [==============================] - 1s 132ms/step - loss: 9.1824e-04 - accuracy: 1.0000 - val_loss: 0.7110 - val_accuracy: 0.7400\n",
            "Epoch 25/25\n",
            "6/6 [==============================] - 1s 132ms/step - loss: 3.6899e-04 - accuracy: 1.0000 - val_loss: 0.6922 - val_accuracy: 0.7400\n"
          ]
        }
      ]
    },
    {
      "cell_type": "code",
      "source": [
        "acc = history.history['accuracy']\n",
        "val_acc = history.history['val_accuracy']\n",
        "loss = history.history['loss']\n",
        "val_loss = history.history['val_loss']\n",
        "\n",
        "epochs_range = range(25)\n",
        "\n",
        "plt.figure(figsize=(15, 15))\n",
        "plt.subplot(2, 2, 1)\n",
        "plt.plot(epochs_range, acc, label='Training Accuracy')\n",
        "plt.plot(epochs_range, val_acc, label='Validation Accuracy')\n",
        "plt.legend(loc='lower right')\n",
        "plt.title('Training and Validation Accuracy')\n",
        "\n",
        "plt.subplot(2, 2, 2)\n",
        "plt.plot(epochs_range, loss, label='Training Loss')\n",
        "plt.plot(epochs_range, val_loss, label='Validation Loss')\n",
        "plt.legend(loc='upper right')\n",
        "plt.title('Training and Validation Loss')\n",
        "plt.show()"
      ],
      "metadata": {
        "colab": {
          "base_uri": "https://localhost:8080/",
          "height": 483
        },
        "id": "hgRGwefJ8Cqz",
        "outputId": "19350049-b3a3-4442-f06e-52c0d6dccfe6"
      },
      "execution_count": 35,
      "outputs": [
        {
          "output_type": "display_data",
          "data": {
            "text/plain": [
              "<Figure size 1500x1500 with 2 Axes>"
            ],
            "image/png": "[encoded data removed]"
          },
          "metadata": {}
        }
      ]
    },
    {
      "cell_type": "code",
      "source": [
        "predictions = model.predict(x_test)\n",
        "pred=np.argmax(predictions,axis=1)\n",
        "pred = pred.reshape(1,-1)[0]\n",
        "print(classification_report(y_test,pred, target_names = ['benign(Class 0)','malignant (Class 1)']))"
      ],
      "metadata": {
        "colab": {
          "base_uri": "https://localhost:8080/"
        },
        "id": "sxHXAAfz8LSl",
        "outputId": "920858a7-069b-479b-a384-840e85656ae2"
      },
      "execution_count": 37,
      "outputs": [
        {
          "output_type": "stream",
          "name": "stdout",
          "text": [
            "1/1 [==============================] - 0s 36ms/step\n",
            "                     precision    recall  f1-score   support\n",
            "\n",
            "    benign(Class 0)       0.86      0.60      0.71        10\n",
            "malignant (Class 1)       0.78      0.93      0.85        15\n",
            "\n",
            "           accuracy                           0.80        25\n",
            "          macro avg       0.82      0.77      0.78        25\n",
            "       weighted avg       0.81      0.80      0.79        25\n",
            "\n"
          ]
        }
      ]
    },
    {
      "cell_type": "code",
      "source": [
        "model.evaluate(x_test,y_test,batch_size=32)"
      ],
      "metadata": {
        "colab": {
          "base_uri": "https://localhost:8080/"
        },
        "id": "miOc4-P68pZD",
        "outputId": "5e3867e7-5333-4772-810f-90ad829810da"
      },
      "execution_count": 38,
      "outputs": [
        {
          "output_type": "stream",
          "name": "stdout",
          "text": [
            "1/1 [==============================] - 0s 230ms/step - loss: 0.9033 - accuracy: 0.8000\n"
          ]
        },
        {
          "output_type": "execute_result",
          "data": {
            "text/plain": [
              "[0.9033456444740295, 0.800000011920929]"
            ]
          },
          "metadata": {},
          "execution_count": 38
        }
      ]
    }
  ]
}