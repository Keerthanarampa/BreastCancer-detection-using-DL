{
  "cells": [
    {
      "cell_type": "markdown",
      "metadata": {
        "id": "view-in-github",
        "colab_type": "text"
      },
      "source": [
        "<a href=\"https://colab.research.google.com/github/Keerthanarampa/BreastCancer-detection-using-DL/blob/main/Untitled4.ipynb\" target=\"_parent\"><img src=\"https://colab.research.google.com/assets/colab-badge.svg\" alt=\"Open In Colab\"/></a>"
      ]
    },
    {
      "cell_type": "code",
      "execution_count": null,
      "metadata": {
        "colab": {
          "base_uri": "https://localhost:8080/"
        },
        "id": "eHCljuk1svA5",
        "outputId": "3287e62d-1b2d-4000-deea-8984a245ae9c"
      },
      "outputs": [
        {
          "output_type": "stream",
          "name": "stdout",
          "text": [
            "Drive already mounted at /content/drive; to attempt to forcibly remount, call drive.mount(\"/content/drive\", force_remount=True).\n"
          ]
        }
      ],
      "source": [
        "from google.colab import drive\n",
        "\n",
        "drive.mount('/content/drive')\n"
      ]
    },
    {
      "cell_type": "code",
      "execution_count": null,
      "metadata": {
        "colab": {
          "base_uri": "https://localhost:8080/"
        },
        "id": "gzFPFDfKu2_A",
        "outputId": "048a74e5-c767-4863-d5b7-d143d2c3b1fc"
      },
      "outputs": [
        {
          "output_type": "stream",
          "name": "stdout",
          "text": [
            "Drive already mounted at /content/drive; to attempt to forcibly remount, call drive.mount(\"/content/drive\", force_remount=True).\n"
          ]
        }
      ],
      "source": [
        "from google.colab import drive\n",
        "drive.mount('/content/drive')"
      ]
    },
    {
      "cell_type": "code",
      "execution_count": null,
      "metadata": {
        "id": "-3_YAXHUsx0h"
      },
      "outputs": [],
      "source": [
        "data_dir = '/content/drive/My Drive/Dataset_BUSI_with_GT'"
      ]
    },
    {
      "cell_type": "code",
      "execution_count": null,
      "metadata": {
        "id": "NND0QCXAtDgl"
      },
      "outputs": [],
      "source": [
        "train_dir = '/content/drive/My Drive/Dataset_BUSI_with_GT/train'"
      ]
    },
    {
      "cell_type": "code",
      "execution_count": null,
      "metadata": {
        "id": "UklaGk75tNZg"
      },
      "outputs": [],
      "source": [
        "test_dir = '/content/drive/My Drive/Dataset_BUSI_with_GT/test'"
      ]
    },
    {
      "cell_type": "code",
      "execution_count": null,
      "metadata": {
        "id": "77zuP-ZotUJW"
      },
      "outputs": [],
      "source": [
        "label=[\"'malignant\",\"benign\",\"normal\"]"
      ]
    },
    {
      "cell_type": "code",
      "execution_count": null,
      "metadata": {
        "id": "KNoSMSjotbqt"
      },
      "outputs": [],
      "source": [
        "import tensorflow as tf\n",
        "import os\n",
        "from keras.models import Sequential\n",
        "from tensorflow.keras.layers import Dense\n",
        "from tensorflow.keras.layers import Flatten\n",
        "from tensorflow.keras.layers import Conv2D\n",
        "from tensorflow.keras.layers import Dropout\n",
        "from tensorflow.keras import Model\n",
        "from tensorflow.keras.preprocessing.image import ImageDataGenerator\n",
        "from tensorflow.keras.optimizers import Adam\n",
        "from tensorflow.keras import layers"
      ]
    },
    {
      "cell_type": "code",
      "execution_count": null,
      "metadata": {
        "id": "Av5xG2HdtdfM"
      },
      "outputs": [],
      "source": [
        "from tensorflow.keras.applications.resnet50 import ResNet50"
      ]
    },
    {
      "cell_type": "code",
      "execution_count": null,
      "metadata": {
        "colab": {
          "base_uri": "https://localhost:8080/"
        },
        "id": "3p6-2e-1w0PK",
        "outputId": "b1978212-65b6-4b2e-ffa4-a5c53ce5cdfc"
      },
      "outputs": [
        {
          "output_type": "stream",
          "name": "stdout",
          "text": [
            "Found 998 images belonging to 3 classes.\n",
            "Found 248 images belonging to 3 classes.\n",
            "Found 341 images belonging to 3 classes.\n"
          ]
        }
      ],
      "source": [
        "train_datagen = ImageDataGenerator(rescale=1./255,\n",
        "                                   shear_range=0.2,\n",
        "                                   zoom_range=0.2,\n",
        "                                   horizontal_flip=True,\n",
        "                                   validation_split=0.2,)\n",
        "test_datagen = ImageDataGenerator(rescale=1./255)\n",
        "\n",
        "train_generator = train_datagen.flow_from_directory(train_dir,\n",
        "                                                    target_size=(224, 224),\n",
        "                                                    batch_size=32,\n",
        "                                                    class_mode='categorical',\n",
        "                                                    subset='training')\n",
        "\n",
        "val_generator = train_datagen.flow_from_directory(train_dir,\n",
        "                                                    target_size=(224, 224),\n",
        "                                                    batch_size=32,\n",
        "                                                    class_mode='categorical',\n",
        "                                                    subset='validation')\n",
        "test_generator = test_datagen.flow_from_directory(test_dir,\n",
        "                                                  target_size=(224, 224),\n",
        "                                                  batch_size=32,\n",
        "                                                  class_mode='categorical')"
      ]
    },
    {
      "cell_type": "code",
      "execution_count": null,
      "metadata": {
        "colab": {
          "base_uri": "https://localhost:8080/"
        },
        "id": "YqC3oH15uJoB",
        "outputId": "967af15f-1f80-456f-d441-de0d65e7f3e2"
      },
      "outputs": [
        {
          "output_type": "stream",
          "name": "stdout",
          "text": [
            "Downloading data from https://storage.googleapis.com/tensorflow/keras-applications/resnet/resnet50_weights_tf_dim_ordering_tf_kernels_notop.h5\n",
            "94765736/94765736 [==============================] - 0s 0us/step\n"
          ]
        }
      ],
      "source": [
        "base_model = ResNet50(weights='imagenet', include_top=False, input_shape=(224, 224, 3))"
      ]
    },
    {
      "cell_type": "code",
      "execution_count": null,
      "metadata": {
        "id": "qIy-nBAmuPXL"
      },
      "outputs": [],
      "source": [
        "x = base_model.output\n",
        "x = Flatten()(x)\n",
        "x = Dense(512, activation='relu')(x)\n",
        "x = Dropout(0.5)(x)\n",
        "#output layer fully connected dance layer with two neuron\n",
        "predictions = Dense(3, activation='softmax')(x)"
      ]
    },
    {
      "cell_type": "code",
      "execution_count": null,
      "metadata": {
        "id": "z-DeAx8YuXmL"
      },
      "outputs": [],
      "source": [
        "# Combine the base ResNet50 model with the custom layers\n",
        "model = Model(inputs=base_model.input, outputs=predictions)"
      ]
    },
    {
      "cell_type": "code",
      "execution_count": null,
      "metadata": {
        "id": "yIgWrTYGuizx"
      },
      "outputs": [],
      "source": [
        "for layer in base_model.layers[5:]:\n",
        "    layer.trainable = False\n",
        "# Compile the model\n",
        "model.compile(optimizer=Adam(learning_rate=0.0001), loss='categorical_crossentropy', metrics=['accuracy'])\n"
      ]
    },
    {
      "cell_type": "code",
      "execution_count": null,
      "metadata": {
        "colab": {
          "base_uri": "https://localhost:8080/"
        },
        "id": "ULefzZpSuskX",
        "outputId": "a0e28ed6-c48c-4957-fe9c-acf847396953"
      },
      "outputs": [
        {
          "output_type": "stream",
          "name": "stdout",
          "text": [
            "Epoch 1/45\n",
            "31/31 [==============================] - 24s 770ms/step - loss: 0.2005 - accuracy: 0.9410 - val_loss: 1.0449 - val_accuracy: 0.7589\n",
            "Epoch 2/45\n",
            "31/31 [==============================] - 25s 816ms/step - loss: 0.2029 - accuracy: 0.9389 - val_loss: 1.0633 - val_accuracy: 0.7589\n",
            "Epoch 3/45\n",
            "31/31 [==============================] - 25s 817ms/step - loss: 0.1942 - accuracy: 0.9400 - val_loss: 1.1982 - val_accuracy: 0.7768\n",
            "Epoch 4/45\n",
            "31/31 [==============================] - 25s 808ms/step - loss: 0.1500 - accuracy: 0.9586 - val_loss: 1.0228 - val_accuracy: 0.7768\n",
            "Epoch 5/45\n",
            "31/31 [==============================] - 25s 818ms/step - loss: 0.1562 - accuracy: 0.9524 - val_loss: 0.8628 - val_accuracy: 0.8170\n",
            "Epoch 6/45\n",
            "31/31 [==============================] - 25s 792ms/step - loss: 0.2126 - accuracy: 0.9513 - val_loss: 0.9347 - val_accuracy: 0.7768\n",
            "Epoch 7/45\n",
            "31/31 [==============================] - 25s 815ms/step - loss: 0.2254 - accuracy: 0.9389 - val_loss: 1.0667 - val_accuracy: 0.7991\n",
            "Epoch 8/45\n",
            "31/31 [==============================] - 30s 968ms/step - loss: 0.2172 - accuracy: 0.9431 - val_loss: 0.7966 - val_accuracy: 0.8036\n",
            "Epoch 9/45\n",
            "31/31 [==============================] - 26s 819ms/step - loss: 0.2034 - accuracy: 0.9451 - val_loss: 0.7399 - val_accuracy: 0.8571\n",
            "Epoch 10/45\n",
            "31/31 [==============================] - 25s 818ms/step - loss: 0.1577 - accuracy: 0.9545 - val_loss: 0.7038 - val_accuracy: 0.8080\n",
            "Epoch 11/45\n",
            "31/31 [==============================] - 25s 791ms/step - loss: 0.2167 - accuracy: 0.9493 - val_loss: 0.7245 - val_accuracy: 0.8304\n",
            "Epoch 12/45\n",
            "31/31 [==============================] - 25s 807ms/step - loss: 0.1762 - accuracy: 0.9513 - val_loss: 0.5417 - val_accuracy: 0.8348\n",
            "Epoch 13/45\n",
            "31/31 [==============================] - 25s 801ms/step - loss: 0.1132 - accuracy: 0.9576 - val_loss: 0.6762 - val_accuracy: 0.8080\n",
            "Epoch 14/45\n",
            "31/31 [==============================] - 26s 829ms/step - loss: 0.1560 - accuracy: 0.9556 - val_loss: 0.6929 - val_accuracy: 0.8348\n",
            "Epoch 15/45\n",
            "31/31 [==============================] - 26s 844ms/step - loss: 0.1645 - accuracy: 0.9555 - val_loss: 0.3767 - val_accuracy: 0.8304\n",
            "Epoch 16/45\n",
            "31/31 [==============================] - 26s 851ms/step - loss: 0.1493 - accuracy: 0.9720 - val_loss: 0.6051 - val_accuracy: 0.8438\n",
            "Epoch 17/45\n",
            "31/31 [==============================] - 30s 962ms/step - loss: 0.1122 - accuracy: 0.9638 - val_loss: 0.5741 - val_accuracy: 0.8080\n",
            "Epoch 18/45\n",
            "31/31 [==============================] - 25s 823ms/step - loss: 0.1173 - accuracy: 0.9534 - val_loss: 0.6188 - val_accuracy: 0.8125\n",
            "Epoch 19/45\n",
            "31/31 [==============================] - 25s 804ms/step - loss: 0.2013 - accuracy: 0.9627 - val_loss: 0.8128 - val_accuracy: 0.8214\n",
            "Epoch 20/45\n",
            "31/31 [==============================] - 29s 954ms/step - loss: 0.1003 - accuracy: 0.9689 - val_loss: 0.8206 - val_accuracy: 0.7991\n",
            "Epoch 21/45\n",
            "31/31 [==============================] - 25s 814ms/step - loss: 0.1626 - accuracy: 0.9482 - val_loss: 0.7140 - val_accuracy: 0.8348\n",
            "Epoch 22/45\n",
            "31/31 [==============================] - 30s 979ms/step - loss: 0.1037 - accuracy: 0.9679 - val_loss: 0.6486 - val_accuracy: 0.8348\n",
            "Epoch 23/45\n",
            "31/31 [==============================] - 25s 802ms/step - loss: 0.1298 - accuracy: 0.9607 - val_loss: 0.6286 - val_accuracy: 0.7991\n",
            "Epoch 24/45\n",
            "31/31 [==============================] - 25s 807ms/step - loss: 0.0951 - accuracy: 0.9689 - val_loss: 0.6472 - val_accuracy: 0.8616\n",
            "Epoch 25/45\n",
            "31/31 [==============================] - 25s 811ms/step - loss: 0.0994 - accuracy: 0.9752 - val_loss: 0.9252 - val_accuracy: 0.8214\n",
            "Epoch 26/45\n",
            "31/31 [==============================] - 29s 958ms/step - loss: 0.1113 - accuracy: 0.9731 - val_loss: 0.5985 - val_accuracy: 0.8438\n",
            "Epoch 27/45\n",
            "31/31 [==============================] - 25s 812ms/step - loss: 0.1329 - accuracy: 0.9493 - val_loss: 1.1244 - val_accuracy: 0.8036\n",
            "Epoch 28/45\n",
            "31/31 [==============================] - 24s 789ms/step - loss: 0.1094 - accuracy: 0.9688 - val_loss: 1.0237 - val_accuracy: 0.8259\n",
            "Epoch 29/45\n",
            "31/31 [==============================] - 25s 813ms/step - loss: 0.1346 - accuracy: 0.9577 - val_loss: 0.7670 - val_accuracy: 0.8259\n",
            "Epoch 30/45\n",
            "31/31 [==============================] - 30s 967ms/step - loss: 0.1154 - accuracy: 0.9689 - val_loss: 0.9053 - val_accuracy: 0.8527\n",
            "Epoch 31/45\n",
            "31/31 [==============================] - 25s 806ms/step - loss: 0.1308 - accuracy: 0.9710 - val_loss: 0.8515 - val_accuracy: 0.8616\n",
            "Epoch 32/45\n",
            "31/31 [==============================] - 30s 966ms/step - loss: 0.1324 - accuracy: 0.9679 - val_loss: 0.7436 - val_accuracy: 0.8438\n",
            "Epoch 33/45\n",
            "31/31 [==============================] - 30s 958ms/step - loss: 0.1263 - accuracy: 0.9689 - val_loss: 0.6189 - val_accuracy: 0.8616\n",
            "Epoch 34/45\n",
            "31/31 [==============================] - 25s 813ms/step - loss: 0.1192 - accuracy: 0.9679 - val_loss: 0.7630 - val_accuracy: 0.8438\n",
            "Epoch 35/45\n",
            "31/31 [==============================] - 25s 808ms/step - loss: 0.1333 - accuracy: 0.9720 - val_loss: 0.5034 - val_accuracy: 0.8616\n",
            "Epoch 36/45\n",
            "31/31 [==============================] - 30s 964ms/step - loss: 0.1343 - accuracy: 0.9648 - val_loss: 0.8078 - val_accuracy: 0.8348\n",
            "Epoch 37/45\n",
            "31/31 [==============================] - 27s 877ms/step - loss: 0.1682 - accuracy: 0.9657 - val_loss: 0.7004 - val_accuracy: 0.8571\n",
            "Epoch 38/45\n",
            "31/31 [==============================] - 25s 819ms/step - loss: 0.0855 - accuracy: 0.9700 - val_loss: 0.6888 - val_accuracy: 0.8438\n",
            "Epoch 39/45\n",
            "31/31 [==============================] - 31s 999ms/step - loss: 0.1166 - accuracy: 0.9689 - val_loss: 0.6627 - val_accuracy: 0.8304\n",
            "Epoch 40/45\n",
            "31/31 [==============================] - 25s 817ms/step - loss: 0.0971 - accuracy: 0.9658 - val_loss: 0.7295 - val_accuracy: 0.8661\n",
            "Epoch 41/45\n",
            "31/31 [==============================] - 30s 966ms/step - loss: 0.0713 - accuracy: 0.9783 - val_loss: 0.6997 - val_accuracy: 0.8527\n",
            "Epoch 42/45\n",
            "31/31 [==============================] - 25s 814ms/step - loss: 0.1019 - accuracy: 0.9720 - val_loss: 0.7898 - val_accuracy: 0.8438\n",
            "Epoch 43/45\n",
            "31/31 [==============================] - 25s 805ms/step - loss: 0.1161 - accuracy: 0.9731 - val_loss: 0.8222 - val_accuracy: 0.8348\n",
            "Epoch 44/45\n",
            "31/31 [==============================] - 25s 806ms/step - loss: 0.0757 - accuracy: 0.9783 - val_loss: 0.5274 - val_accuracy: 0.8571\n",
            "Epoch 45/45\n",
            "31/31 [==============================] - 26s 839ms/step - loss: 0.0968 - accuracy: 0.9658 - val_loss: 0.8453 - val_accuracy: 0.8527\n"
          ]
        }
      ],
      "source": [
        "history = model.fit(\n",
        "    train_generator,\n",
        "    steps_per_epoch=train_generator.n // train_generator.batch_size,\n",
        "    epochs=45,\n",
        "    validation_data=val_generator,\n",
        "    validation_steps=val_generator.n // val_generator.batch_size\n",
        ")"
      ]
    },
    {
      "cell_type": "code",
      "source": [
        "test_loss, test_accuracy = model.evaluate(test_generator)"
      ],
      "metadata": {
        "id": "_KREN6Y_AUsg",
        "colab": {
          "base_uri": "https://localhost:8080/"
        },
        "outputId": "3fcee069-795a-41b3-ecad-1bfc4c02151e"
      },
      "execution_count": null,
      "outputs": [
        {
          "output_type": "stream",
          "name": "stdout",
          "text": [
            "11/11 [==============================] - 78s 8s/step - loss: 0.7312 - accuracy: 0.8710\n"
          ]
        }
      ]
    },
    {
      "cell_type": "code",
      "source": [
        "y_pred = model.predict(test_generator)"
      ],
      "metadata": {
        "id": "1muo3X85ePBX",
        "colab": {
          "base_uri": "https://localhost:8080/"
        },
        "outputId": "1f145a3b-a83e-4321-bd66-0829e3fc4305"
      },
      "execution_count": null,
      "outputs": [
        {
          "output_type": "stream",
          "name": "stdout",
          "text": [
            "11/11 [==============================] - 3s 225ms/step\n"
          ]
        }
      ]
    },
    {
      "cell_type": "code",
      "source": [
        "y_true = test_generator.classes"
      ],
      "metadata": {
        "id": "izjBYlcul9x1"
      },
      "execution_count": null,
      "outputs": []
    },
    {
      "cell_type": "code",
      "source": [
        "from sklearn.metrics import classification_report\n",
        "import numpy as np\n",
        "\n",
        "\n",
        "\n"
      ],
      "metadata": {
        "id": "ANgZnadImN18"
      },
      "execution_count": null,
      "outputs": []
    },
    {
      "cell_type": "code",
      "source": [
        "y_pred_classes = np.argmax(y_pred, axis=1)"
      ],
      "metadata": {
        "id": "eHiZ31MKrIuo"
      },
      "execution_count": null,
      "outputs": []
    },
    {
      "cell_type": "code",
      "source": [
        "from sklearn.metrics import confusion_matrix\n",
        "confusion = confusion_matrix(y_true, y_pred_classes)\n",
        "print(\"Confusion Matrix:\")\n",
        "print(confusion)"
      ],
      "metadata": {
        "colab": {
          "base_uri": "https://localhost:8080/"
        },
        "id": "G6QJ5a7mrRqb",
        "outputId": "204058e2-4679-43d7-9422-a5a155459ea7"
      },
      "execution_count": null,
      "outputs": [
        {
          "output_type": "stream",
          "name": "stdout",
          "text": [
            "Confusion Matrix:\n",
            "[[114  44  23]\n",
            " [ 60  30  14]\n",
            " [ 37  15   4]]\n"
          ]
        }
      ]
    },
    {
      "cell_type": "code",
      "source": [
        "# Calculate the classification report\n",
        "report = classification_report(y_true, y_pred_classes, target_names=label)\n",
        "\n",
        "# Print the classification report\n",
        "print(\"Classification Report:\")\n",
        "print(report)"
      ],
      "metadata": {
        "colab": {
          "base_uri": "https://localhost:8080/"
        },
        "id": "JApjQinfq5pT",
        "outputId": "d8c891ce-ec5e-4272-f89e-d43c4ec36d27"
      },
      "execution_count": null,
      "outputs": [
        {
          "output_type": "stream",
          "name": "stdout",
          "text": [
            "Classification Report:\n",
            "              precision    recall  f1-score   support\n",
            "\n",
            "  'malignant       0.54      0.63      0.58       181\n",
            "      benign       0.34      0.29      0.31       104\n",
            "      normal       0.10      0.07      0.08        56\n",
            "\n",
            "    accuracy                           0.43       341\n",
            "   macro avg       0.32      0.33      0.32       341\n",
            "weighted avg       0.41      0.43      0.42       341\n",
            "\n"
          ]
        }
      ]
    }
  ],
  "metadata": {
    "accelerator": "GPU",
    "colab": {
      "provenance": [],
      "gpuType": "T4",
      "mount_file_id": "1c66BYzHTwxYqzabuFEFjqXpHglRofOoV",
      "authorship_tag": "ABX9TyPz6hH6FkCWPeYXe9dtcopU",
      "include_colab_link": true
    },
    "kernelspec": {
      "display_name": "Python 3",
      "name": "python3"
    },
    "language_info": {
      "name": "python"
    }
  },
  "nbformat": 4,
  "nbformat_minor": 0
}